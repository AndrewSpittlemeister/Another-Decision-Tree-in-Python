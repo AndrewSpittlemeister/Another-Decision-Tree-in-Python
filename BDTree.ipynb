{
  "nbformat": 4,
  "nbformat_minor": 0,
  "metadata": {
    "colab": {
      "name": "BDTree.ipynb",
      "version": "0.3.2",
      "views": {},
      "default_view": {},
      "provenance": [],
      "collapsed_sections": [],
      "toc_visible": true
    },
    "kernelspec": {
      "display_name": "Python 3",
      "language": "python",
      "name": "python3"
    }
  },
  "cells": [
    {
      "metadata": {
        "id": "amghVeySAbuN",
        "colab_type": "text"
      },
      "cell_type": "markdown",
      "source": [
        "#Binary Decision Tree"
      ]
    },
    {
      "metadata": {
        "id": "YLh3D8obBGXe",
        "colab_type": "code",
        "colab": {
          "autoexec": {
            "startup": false,
            "wait_interval": 0
          }
        }
      },
      "cell_type": "code",
      "source": [
        "import numpy as np\n",
        "import csv\n",
        "from math import log"
      ],
      "execution_count": 0,
      "outputs": []
    },
    {
      "metadata": {
        "id": "9mcEEKmoGGyl",
        "colab_type": "text"
      },
      "cell_type": "markdown",
      "source": [
        "## Tree Class and Methods"
      ]
    },
    {
      "metadata": {
        "id": "twGrbsluI55E",
        "colab_type": "code",
        "colab": {
          "autoexec": {
            "startup": false,
            "wait_interval": 0
          }
        }
      },
      "cell_type": "code",
      "source": [
        "class BDTree:\n",
        "  def __init__(self, sample_filename, lbl_list):\n",
        "    self.data = self.parse_data(sample_filename, lbl_list)\n",
        "    self.split_var = lbl_list[-1]\n",
        "    self.data_attrs = lbl_list[:-1]\n",
        "    self.attr_vars = self.get_key_vars()\n",
        "    self.top_node = Node()\n",
        "    self.depth = None\n",
        "    \n",
        "  def parse_data(self, fname, lbls):\n",
        "    '''Takes in the filename of the csv and the ordered labels list and gives\n",
        "        back a list of dictionaries where each dictionary is a datapoint'''\n",
        "    data = open(fname)\n",
        "    data_reader = csv.reader(data)\n",
        "    data_matrix = []\n",
        "    for row in data_reader:\n",
        "      new_dict = {}\n",
        "      for i in range(len(row)):\n",
        "        row[i] = row[i].strip()\n",
        "        if row[i] == 'Yes':\n",
        "          row[i] = True\n",
        "        elif row[i] == 'No':\n",
        "          row[i] = False\n",
        "        new_dict[lbls[i]] = row[i]\n",
        "      data_matrix.append(new_dict)\n",
        "    return data_matrix\n",
        "  \n",
        "  def get_key_vars(self):\n",
        "    '''This function creates a dictionary that holds values for all the possible\n",
        "        labels that are present in this dataset.'''\n",
        "    new_dict = {}\n",
        "    for i in range(len(self.data_attrs)):\n",
        "      k = self.data_attrs[i]\n",
        "      new_dict[k] = []\n",
        "      for j in range(len(self.data)):\n",
        "        new_dict[k].append(self.data[j][k])\n",
        "      new_dict[k] = list(set(new_dict[k]))\n",
        "    return new_dict\n",
        "      \n",
        "  \n",
        "  def node_entropy(self, samples):\n",
        "    '''Calculates the impurity at a node given the samples coming in aftera \n",
        "        split.'''\n",
        "    T, F = 0, 0\n",
        "    n = len(samples)\n",
        "    \n",
        "    if n == 0:\n",
        "      return 0\n",
        "    \n",
        "    for i in range(n):\n",
        "      if (samples[i][self.split_var] == True):\n",
        "        T += 1\n",
        "      else:\n",
        "        F += 1\n",
        "    P_T, P_F = T/n, F/n\n",
        "    \n",
        "    # cast these to 1 if 0 to avoid NaN error in log function.\n",
        "    if P_T == 0:\n",
        "      P_T = 1\n",
        "    if P_F == 0:\n",
        "      P_F = 1\n",
        "    \n",
        "    return -sum([P_T*log(P_T,2), P_F*log(P_F,2)]) # entropy\n",
        "  \n",
        "  def split_entropy(self, samples, split_attr):\n",
        "    '''Calculates the entropy of a given split with the samples at a certain\n",
        "         node.'''\n",
        "    attr_vals = self.attr_vars[split_attr] # list values that this attribute can take on.\n",
        "    n = len(samples)\n",
        "    a = len(attr_vals)\n",
        "    \n",
        "    # split samples into separate nodes:\n",
        "    sample_splits = self.split_data(samples, split_attr)\n",
        "  \n",
        "    # find entropy for each new node:\n",
        "    entropy_terms = [] # will be same size and correspond to attr_vals\n",
        "    for i in range(a):\n",
        "      node_sample_num = len(sample_splits[attr_vals[i]])\n",
        "      e = self.node_entropy(sample_splits[attr_vals[i]])      \n",
        "      entropy_terms.append((node_sample_num/n) * e)\n",
        "    return sum(entropy_terms)\n",
        "  \n",
        "  def min_split_var(self, attrs, samples):\n",
        "    '''Finds the variable to split the data on that yields the lowest resulting \n",
        "        entropy.'''\n",
        "    vals = np.zeros(len(attrs))\n",
        "    for i in range(len(attrs)):\n",
        "      vals[i] = self.split_entropy(samples, attrs[i])\n",
        "    idx = np.argmin(vals)\n",
        "    return attrs[idx]\n",
        "\n",
        "  def build(self, data, prev_node, attr_list, prev_branch_val= None):\n",
        "    '''Builds the Tree structure given a predefined maximum depth in a recursive\n",
        "        fashion using node objects.'''\n",
        "    if self.depth == None: \n",
        "      print(\"please set depth first\")\n",
        "      return\n",
        "    \n",
        "    # hit point where we have used all attributes: (LEAF)\n",
        "    if ((len(attr_list) == 0) or (self.depth <= self.node_depth(prev_node))): # then this is a leaf node\n",
        "      # now figure out if it is a True or False leaf node or Neither.\n",
        "      if(len(data) == 0): # then just initialize leaf node as None\n",
        "        new_node = Node(parent = prev_node, branch_val = prev_branch_val)\n",
        "        prev_node.children.append(new_node)\n",
        "        return\n",
        "      elif(data[0][self.split_var] == True):\n",
        "        new_node = Node(parent = prev_node, branch_val = prev_branch_val, leaf = True)\n",
        "        prev_node.children.append(new_node)\n",
        "        return\n",
        "      elif(data[0][self.split_var] == False):\n",
        "        new_node = Node(parent = prev_node, branch_val = prev_branch_val, leaf = False)\n",
        "        prev_node.children.append(new_node)\n",
        "        return\n",
        "    \n",
        "    # hit point where we ran out of samples: (LEAF)\n",
        "    elif(len(data) == 0): # then this is also a leaf node\n",
        "      new_node = Node(parent = prev_node, branch_val = prev_branch_val)\n",
        "      prev_node.children.append(new_node)\n",
        "      return\n",
        "    \n",
        "    # otherwise we continue with the recursion:\n",
        "    \n",
        "    # find minimum split given current data and attr_list\n",
        "  \n",
        "    attr = self.min_split_var(attr_list, data)\n",
        "    # remove it from attribute list\n",
        "    attr_list.remove(attr)\n",
        "    # create new node for this split\n",
        "    new_node = Node(parent = prev_node, branch_val = prev_branch_val, var = attr)\n",
        "    prev_node.children.append(new_node)\n",
        "    # split the data\n",
        "    data_splits = self.split_data(data, attr)\n",
        "    # recurse for each branch\n",
        "    branches = self.attr_vars[attr]\n",
        "    for i in range(len(branches)):\n",
        "      self.build(data_splits[branches[i]], new_node, attr_list, branches[i])\n",
        "    \n",
        "  def split_data(self, data, attr):\n",
        "    '''Returns the incoming data split into two lists given a certain attribute.'''\n",
        "    attr_vals = self.attr_vars[attr] # list values that this attribute can take on.\n",
        "    n = len(data)\n",
        "    a = len(attr_vals)\n",
        "    data_splits = {}\n",
        "    for i in range(a):\n",
        "      data_splits[attr_vals[i]] = [] # create empty lists for each branch\n",
        "    for i in range(n):\n",
        "      data_splits[data[i][attr]].append(data[i]) # put each sample into correct list.\n",
        "        \n",
        "    return data_splits\n",
        "    \n",
        "  def node_depth(self, node):\n",
        "    '''Returns depth of a node.'''\n",
        "    d = 0\n",
        "    while(node.parent != None):\n",
        "      d += 1\n",
        "      node = node.parent\n",
        "      \n",
        "    return d\n",
        "  \n",
        "  def visualize(self, node=None, dictionary = {}):\n",
        "    '''Returns a dictionary of node descriptions where each key is the depth in\n",
        "        the tree.'''\n",
        "    if node == None:\n",
        "      node = self.top_node\n",
        "      p_var = None\n",
        "    else: \n",
        "      p_var = node.parent.var\n",
        "      \n",
        "    d = self.node_depth(node)\n",
        "    \n",
        "    if d in dictionary.keys():\n",
        "      dictionary[d].append((node.var, 'From Node: ', p_var, 'Through Branch: ', node.branch_val, 'Leaf Value: ', node.leaf)) \n",
        "    else:\n",
        "      dictionary[d] = [(node.var, 'From Node: ', p_var, 'Through Branch: ', node.branch_val, 'Leaf Value: ', node.leaf)]\n",
        "    \n",
        "    for i in range(len(node.children)):\n",
        "      self.visualize(node.children[i], dictionary)\n",
        "      \n",
        "    return dictionary\n",
        "  \n",
        "  def evaluate(self, sample):\n",
        "    '''Uses the generated tree structure to classify a sample datapoint.'''\n",
        "    current = self.top_node.children[0]\n",
        "    decision = None\n",
        "    not_leaf = True\n",
        "    while not_leaf:\n",
        "      # check if current node is a leaf:\n",
        "      if not current.children: # will be true when list is empty (leaf node)\n",
        "        decision = current.leaf\n",
        "        not_leaf = False\n",
        "        \n",
        "      # otherwise figure out which branch to go down:\n",
        "      else:\n",
        "        for i in range(len(current.children)):\n",
        "          if current.children[i].branch_val == sample[current.var]:\n",
        "            current = current.children[i]\n",
        "            break\n",
        "    return decision\n",
        "             \n",
        "    \n",
        "class Node:\n",
        "  '''A class representing the nodes of a decision tree.'''\n",
        "  def __init__(self, parent = None, branch_val = None, var = None, leaf = None):\n",
        "    self.parent = parent\n",
        "    self.branch_val = branch_val\n",
        "    self.var = var\n",
        "    self.children = []\n",
        "    self.leaf = leaf"
      ],
      "execution_count": 0,
      "outputs": []
    },
    {
      "metadata": {
        "id": "UF3rAPLv_yGP",
        "colab_type": "text"
      },
      "cell_type": "markdown",
      "source": [
        "## Instantiate and Build Tree"
      ]
    },
    {
      "metadata": {
        "id": "0cLm7LeRLYhD",
        "colab_type": "code",
        "colab": {
          "autoexec": {
            "startup": false,
            "wait_interval": 0
          }
        }
      },
      "cell_type": "code",
      "source": [
        "Tree = BDTree('restaurant.csv', ['alt', 'bar', 'fri', 'hun', 'pat', 'price', 'rain', 'res', 'type', 'est', 'wait'])"
      ],
      "execution_count": 0,
      "outputs": []
    },
    {
      "metadata": {
        "id": "SEzqiqQNt2eH",
        "colab_type": "code",
        "colab": {
          "autoexec": {
            "startup": false,
            "wait_interval": 0
          }
        }
      },
      "cell_type": "code",
      "source": [
        "Tree.depth = 3 # This isn't counting the leaf node depth, so this will give a total depth of 4.\n",
        "Tree.build(Tree.data, Tree.top_node, Tree.data_attrs)"
      ],
      "execution_count": 0,
      "outputs": []
    },
    {
      "metadata": {
        "id": "PMhv5Ma0_uqA",
        "colab_type": "text"
      },
      "cell_type": "markdown",
      "source": [
        "## Visualize Tree"
      ]
    },
    {
      "metadata": {
        "id": "TCd4-e665Blg",
        "colab_type": "code",
        "colab": {
          "autoexec": {
            "startup": false,
            "wait_interval": 0
          },
          "base_uri": "https://localhost:8080/",
          "height": 109
        },
        "outputId": "307fbd50-d457-4576-fefe-ceef78e6be8d",
        "executionInfo": {
          "elapsed": 361,
          "status": "ok",
          "timestamp": 1525216793016,
          "user": {
            "displayName": "Andrew Spittlemeister",
            "photoUrl": "//lh5.googleusercontent.com/-K1fqqvWvozY/AAAAAAAAAAI/AAAAAAAAABg/Kh4T3wfzofk/s50-c-k-no/photo.jpg",
            "userId": "116305124686982070571"
          },
          "user_tz": 300
        }
      },
      "cell_type": "code",
      "source": [
        "dictionary = Tree.visualize()\n",
        "for i in range(1, len(list(dictionary.keys()))): \n",
        "  # not showing the placeholder top node. That one is just a pointer.\n",
        "  print(dictionary[i])"
      ],
      "execution_count": 0,
      "outputs": [
        {
          "output_type": "stream",
          "text": [
            "[('pat', 'From Node: ', None, 'Through Branch: ', None, 'Leaf Value: ', None)]\n",
            "[('alt', 'From Node: ', 'pat', 'Through Branch: ', 'None', 'Leaf Value: ', None), ('hun', 'From Node: ', 'pat', 'Through Branch: ', 'Full', 'Leaf Value: ', None), ('price', 'From Node: ', 'pat', 'Through Branch: ', 'Some', 'Leaf Value: ', None)]\n",
            "[('bar', 'From Node: ', 'alt', 'Through Branch: ', False, 'Leaf Value: ', None), (None, 'From Node: ', 'alt', 'Through Branch: ', True, 'Leaf Value: ', None), ('fri', 'From Node: ', 'hun', 'Through Branch: ', False, 'Leaf Value: ', None), ('type', 'From Node: ', 'hun', 'Through Branch: ', True, 'Leaf Value: ', None), ('rain', 'From Node: ', 'price', 'Through Branch: ', '$', 'Leaf Value: ', None), ('res', 'From Node: ', 'price', 'Through Branch: ', '$$$', 'Leaf Value: ', None), ('est', 'From Node: ', 'price', 'Through Branch: ', '$$', 'Leaf Value: ', None)]\n",
            "[(None, 'From Node: ', 'bar', 'Through Branch: ', False, 'Leaf Value: ', False), (None, 'From Node: ', 'bar', 'Through Branch: ', True, 'Leaf Value: ', False), (None, 'From Node: ', 'fri', 'Through Branch: ', False, 'Leaf Value: ', None), (None, 'From Node: ', 'fri', 'Through Branch: ', True, 'Leaf Value: ', False), (None, 'From Node: ', 'type', 'Through Branch: ', 'Italian', 'Leaf Value: ', False), (None, 'From Node: ', 'type', 'Through Branch: ', 'French', 'Leaf Value: ', None), (None, 'From Node: ', 'type', 'Through Branch: ', 'Thai', 'Leaf Value: ', False), (None, 'From Node: ', 'type', 'Through Branch: ', 'Burger', 'Leaf Value: ', True), (None, 'From Node: ', 'rain', 'Through Branch: ', False, 'Leaf Value: ', True), (None, 'From Node: ', 'rain', 'Through Branch: ', True, 'Leaf Value: ', None), (None, 'From Node: ', 'res', 'Through Branch: ', False, 'Leaf Value: ', None), (None, 'From Node: ', 'res', 'Through Branch: ', True, 'Leaf Value: ', True), (None, 'From Node: ', 'est', 'Through Branch: ', '10-30', 'Leaf Value: ', None), (None, 'From Node: ', 'est', 'Through Branch: ', '>60', 'Leaf Value: ', None), (None, 'From Node: ', 'est', 'Through Branch: ', '30-60', 'Leaf Value: ', None), (None, 'From Node: ', 'est', 'Through Branch: ', '0-10', 'Leaf Value: ', True)]\n"
          ],
          "name": "stdout"
        }
      ]
    },
    {
      "metadata": {
        "id": "SrwDtjTU-e-q",
        "colab_type": "text"
      },
      "cell_type": "markdown",
      "source": [
        "## Test Tree on Training Set"
      ]
    },
    {
      "metadata": {
        "id": "FoYhAaLNhAs8",
        "colab_type": "code",
        "colab": {
          "autoexec": {
            "startup": false,
            "wait_interval": 0
          },
          "base_uri": "https://localhost:8080/",
          "height": 35
        },
        "outputId": "f2bdeb4a-be8c-45cb-e6a9-aa5daf77b6b7",
        "executionInfo": {
          "elapsed": 277,
          "status": "ok",
          "timestamp": 1525216795390,
          "user": {
            "displayName": "Andrew Spittlemeister",
            "photoUrl": "//lh5.googleusercontent.com/-K1fqqvWvozY/AAAAAAAAAAI/AAAAAAAAABg/Kh4T3wfzofk/s50-c-k-no/photo.jpg",
            "userId": "116305124686982070571"
          },
          "user_tz": 300
        }
      },
      "cell_type": "code",
      "source": [
        "count = 0\n",
        "for i in range(len(Tree.data)):\n",
        "  actual = Tree.data[i]['wait']\n",
        "  pred = Tree.evaluate(Tree.data[i])\n",
        "  if actual == pred:\n",
        "    count += 1\n",
        "print(\"Accuracy of Tree on Training Data: \", count/len(Tree.data))"
      ],
      "execution_count": 0,
      "outputs": [
        {
          "output_type": "stream",
          "text": [
            "Accuracy of Tree on Training Data:  0.9166666666666666\n"
          ],
          "name": "stdout"
        }
      ]
    }
  ]
}